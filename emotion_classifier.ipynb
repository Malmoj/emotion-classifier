{
 "cells": [
  {
   "cell_type": "markdown",
   "id": "2cc61aa2-4f12-4127-ab8a-d107f82e375a",
   "metadata": {},
   "source": [
    "# Emotion Classification with BERT\n",
    "\n",
    "In this project im going to build a multi-label emotion classifier using a pre-trained BERT model.\n",
    "\n",
    "Im going to use:\n",
    "- The GoEmotions dataset (1,000 text samples)\n",
    "- The `bert-base-uncased` model from Hugging Face\n",
    "- Tokenization and training using the Transformers library\n",
    "- Multi-label setup with sigmoid activation and BCEWithLogitsLoss\n",
    "- Evaluation using F1 score and classification report\n"
   ]
  },
  {
   "cell_type": "markdown",
   "id": "6f57fd14-a482-477c-9567-9091aede6a2d",
   "metadata": {},
   "source": [
    "# Importing the libraries"
   ]
  },
  {
   "cell_type": "code",
   "execution_count": 3,
   "id": "833e5d37-ec0b-433c-a7e0-6284d32b3ab4",
   "metadata": {},
   "outputs": [],
   "source": [
    "# load dataset and BERT\n",
    "from datasets import load_dataset\n",
    "from transformers import (\n",
    "    BertTokenizerFast,\n",
    "    BertForSequenceClassification,\n",
    "    Trainer,\n",
    "    TrainingArguments,\n",
    "    AutoModelForSequenceClassification\n",
    ")\n",
    "\n",
    "# torch\n",
    "import torch\n",
    "from torch.nn import BCEWithLogitsLoss\n",
    "from torch.utils.data import Dataset\n",
    "\n",
    "# data tools\n",
    "import pandas as pd\n",
    "import numpy as np\n",
    "from sklearn.model_selection import train_test_split\n",
    "\n",
    "# metrics\n",
    "from sklearn.metrics import (\n",
    "    classification_report,\n",
    "    f1_score,\n",
    "    accuracy_score\n",
    ")\n",
    "from scipy.special import expit\n",
    "\n",
    "# visualization\n",
    "import matplotlib.pyplot as plt\n",
    "import seaborn as sns\n",
    "\n",
    "# system\n",
    "import os\n",
    "import random\n"
   ]
  },
  {
   "cell_type": "markdown",
   "id": "b726a51b-f8c6-468b-a3b7-9649db6b8602",
   "metadata": {},
   "source": [
    "#  Loading the GoEmotions Dataset"
   ]
  },
  {
   "cell_type": "code",
   "execution_count": 5,
   "id": "b1120c5c-0fda-4e75-8dbb-6bb3a08dad81",
   "metadata": {},
   "outputs": [
    {
     "name": "stdout",
     "output_type": "stream",
     "text": [
      "Dataset preview:\n",
      "                                                text       id  \\\n",
      "0                                    That game hurt.  eew5j0j   \n",
      "1   >sexuality shouldn’t be a grouping category I...  eemcysk   \n",
      "2     You do right, if you don't care then fuck 'em!  ed2mah1   \n",
      "3                                 Man I love reddit.  eeibobj   \n",
      "4  [NAME] was nowhere near them, he was by the Fa...  eda6yn6   \n",
      "\n",
      "                author            subreddit    link_id   parent_id  \\\n",
      "0                Brdd9                  nrl  t3_ajis4z  t1_eew18eq   \n",
      "1          TheGreen888     unpopularopinion  t3_ai4q37   t3_ai4q37   \n",
      "2             Labalool          confessions  t3_abru74  t1_ed2m7g7   \n",
      "3        MrsRobertshaw             facepalm  t3_ahulml   t3_ahulml   \n",
      "4  American_Fascist713  starwarsspeculation  t3_ackt2f  t1_eda65q2   \n",
      "\n",
      "    created_utc  rater_id  example_very_unclear  admiration  ...  love  \\\n",
      "0  1.548381e+09         1                 False           0  ...     0   \n",
      "1  1.548084e+09        37                 False           0  ...     0   \n",
      "2  1.546428e+09        37                 False           0  ...     0   \n",
      "3  1.547965e+09        18                 False           0  ...     1   \n",
      "4  1.546669e+09         2                 False           0  ...     0   \n",
      "\n",
      "   nervousness  optimism  pride  realization  relief  remorse  sadness  \\\n",
      "0            0         0      0            0       0        0        1   \n",
      "1            0         0      0            0       0        0        0   \n",
      "2            0         0      0            0       0        0        0   \n",
      "3            0         0      0            0       0        0        0   \n",
      "4            0         0      0            0       0        0        0   \n",
      "\n",
      "   surprise  neutral  \n",
      "0         0        0  \n",
      "1         0        0  \n",
      "2         0        1  \n",
      "3         0        0  \n",
      "4         0        1  \n",
      "\n",
      "[5 rows x 37 columns]\n"
     ]
    }
   ],
   "source": [
    "# Load a subset of the GoEmotions dataset (1,000 samples for speed)\n",
    "dataset = load_dataset(\"go_emotions\", \"raw\", split=\"train[:7000]\")\n",
    "\n",
    "# Convert to DataFrame\n",
    "df = pd.DataFrame(dataset)\n",
    "print(\"Dataset preview:\")\n",
    "print(df.head())\n"
   ]
  },
  {
   "cell_type": "markdown",
   "id": "9134d7e5-64fe-4b87-91f5-088ec7c57bec",
   "metadata": {},
   "source": [
    "# 3: emotion label list"
   ]
  },
  {
   "cell_type": "code",
   "execution_count": 7,
   "id": "67a6afb0-9653-4c34-99f4-8ee72bdf2130",
   "metadata": {},
   "outputs": [],
   "source": [
    "# Define emotion columns\n",
    "\n",
    "emotion_labels = [\n",
    "    'admiration', 'amusement', 'anger', 'annoyance', 'approval', 'caring',\n",
    "    'confusion', 'curiosity', 'desire', 'disappointment', 'disapproval', 'disgust',\n",
    "    'embarrassment', 'excitement', 'fear', 'gratitude', 'grief', 'joy',\n",
    "    'love', 'nervousness', 'optimism', 'pride', 'realization', 'relief',\n",
    "    'remorse', 'sadness', 'surprise', 'neutral'\n",
    "]\n",
    "# This list is used to build binary label columns and define model output size\n"
   ]
  },
  {
   "cell_type": "markdown",
   "id": "1b904865-344d-4853-882b-0cc30c34ea72",
   "metadata": {},
   "source": [
    "# 4: Clean data"
   ]
  },
  {
   "cell_type": "code",
   "execution_count": 9,
   "id": "e7aee76b-ea55-4e05-a757-0a927a8c7c38",
   "metadata": {},
   "outputs": [],
   "source": [
    "# remove rows with empty or missing text\n",
    "df = df[df['text'].notnull() & df['text'].str.strip().ne('')]\n",
    "df = df.reset_index(drop=True)"
   ]
  },
  {
   "cell_type": "markdown",
   "id": "4388ef08-4175-4931-8e98-6a983ba1bf5c",
   "metadata": {},
   "source": [
    "# 5: Create binary label columns"
   ]
  },
  {
   "cell_type": "code",
   "execution_count": 11,
   "id": "600cb67c-7e1a-47ca-a25f-b467f0f7340e",
   "metadata": {},
   "outputs": [
    {
     "name": "stdout",
     "output_type": "stream",
     "text": [
      "Dataset statistics:\n",
      "Number of samples: 7000\n",
      "Columns: ['text', 'id', 'author', 'subreddit', 'link_id', 'parent_id', 'created_utc', 'rater_id', 'example_very_unclear', 'admiration', 'amusement', 'anger', 'annoyance', 'approval', 'caring', 'confusion', 'curiosity', 'desire', 'disappointment', 'disapproval', 'disgust', 'embarrassment', 'excitement', 'fear', 'gratitude', 'grief', 'joy', 'love', 'nervousness', 'optimism', 'pride', 'realization', 'relief', 'remorse', 'sadness', 'surprise', 'neutral', 'emotions_text']\n"
     ]
    }
   ],
   "source": [
    "# Convert list-style emotion annotations into binary columns (multi-label format)\n",
    "# Each row can have more than one active emotion\n",
    "\n",
    "has_emotion_columns = any(col in emotion_labels for col in df.columns)\n",
    "\n",
    "# Turn list of emotions into binary columns (0 or 1)\n",
    "# and if if the emotions columns do not already exist, create them\n",
    "if not has_emotion_columns:\n",
    "    print(\"Creating emotion label columns...\")\n",
    "    if 'emotions' in df.columns:\n",
    "        for label in emotion_labels:\n",
    "            df[label] = 0\n",
    "        for idx, row in df.iterrows():\n",
    "            if 'emotions' in row and isinstance(row['emotions'], list):\n",
    "                for emotion_idx in row['emotions']:\n",
    "                    if 0 <= emotion_idx < len(emotion_labels):\n",
    "                        df.at[idx, emotion_labels[emotion_idx]] = 1\n",
    "    else:\n",
    "        print(\"Warning: No emotion columns or 'emotions' list found.\")\n",
    "\n",
    "# create a text version of active labels\n",
    "df['emotions_text'] = df[emotion_labels].apply(\n",
    "    lambda row: [label for label in emotion_labels if row[label] == 1],\n",
    "    axis=1\n",
    ")\n",
    "\n",
    "#and lastly we print the summary\n",
    "print(\"Dataset statistics:\")\n",
    "print(f\"Number of samples: {len(df)}\")\n",
    "print(f\"Columns: {df.columns.tolist()}\")\n",
    "\n"
   ]
  },
  {
   "cell_type": "markdown",
   "id": "cdb9f97d-17f1-46ad-b68e-d8e8310a5b61",
   "metadata": {},
   "source": [
    "# 6: Explore label counts"
   ]
  },
  {
   "cell_type": "code",
   "execution_count": 13,
   "id": "a86404ae-c509-492d-9df2-e15a4c61aec4",
   "metadata": {},
   "outputs": [
    {
     "data": {
      "image/png": "[encoded data removed]",
      "text/plain": [
       "<Figure size 1000x600 with 1 Axes>"
      ]
     },
     "metadata": {},
     "output_type": "display_data"
    }
   ],
   "source": [
    "#Remove 'neutral' and calculate label counts\n",
    "\n",
    "df = df[df[\"neutral\"] != 1].reset_index(drop=True)\n",
    "\n",
    "# Calculate label count after removing 'neutral'\n",
    "df['label_count'] = df[emotion_labels].sum(axis=1)\n",
    "\n",
    "plt.figure(figsize=(10, 6))\n",
    "sns.countplot(x='label_count', data=df)\n",
    "plt.title(\"Number of Labels per Message\")\n",
    "plt.xlabel(\"Label Count\")\n",
    "plt.ylabel(\"Frequency\")\n",
    "plt.show()\n"
   ]
  },
  {
   "cell_type": "markdown",
   "id": "3fff9f32-c6a0-470e-9b37-bc0c7b424d16",
   "metadata": {},
   "source": [
    "# 7: Clean and filter data"
   ]
  },
  {
   "cell_type": "code",
   "execution_count": 15,
   "id": "a21be032-8b9b-4136-b10c-ad6e2e548711",
   "metadata": {},
   "outputs": [
    {
     "name": "stdout",
     "output_type": "stream",
     "text": [
      "Remaining samples: 5043\n"
     ]
    }
   ],
   "source": [
    "# this step allow us to filter rows with no labels\n",
    "df = df[df['label_count'] > 0]\n",
    "df = df.reset_index(drop=True)\n",
    "\n",
    "print(f\"Remaining samples: {df.shape[0]}\")\n"
   ]
  },
  {
   "cell_type": "markdown",
   "id": "2efa24f3-f1e2-4519-b216-610339e5b43f",
   "metadata": {},
   "source": [
    "# 8: Split train/test"
   ]
  },
  {
   "cell_type": "code",
   "execution_count": 17,
   "id": "017ba44a-0186-4272-bae8-74df2df822ae",
   "metadata": {},
   "outputs": [
    {
     "name": "stdout",
     "output_type": "stream",
     "text": [
      "Train size: 4034\n",
      "Test size: 1009\n"
     ]
    }
   ],
   "source": [
    "# Split text and binary labels into training and testing sets (80/20 split)\n",
    "X = df['text']\n",
    "Y = df[emotion_labels]\n",
    "\n",
    "X_train, X_test, Y_train, Y_test = train_test_split(\n",
    "    X, Y, test_size=0.2, random_state=42\n",
    ")\n",
    "\n",
    "print(f\"Train size: {len(X_train)}\")\n",
    "print(f\"Test size: {len(X_test)}\")"
   ]
  },
  {
   "cell_type": "markdown",
   "id": "ca38a34d-7f28-4aa9-bcd1-8bbcfb33db48",
   "metadata": {},
   "source": [
    "# 9: Tokenize"
   ]
  },
  {
   "cell_type": "code",
   "execution_count": 19,
   "id": "bae1a2f8-2463-4757-aded-c4c05cca65a0",
   "metadata": {},
   "outputs": [
    {
     "name": "stdout",
     "output_type": "stream",
     "text": [
      "BertTokenizerFast(name_or_path='bert-base-uncased', vocab_size=30522, model_max_length=512, is_fast=True, padding_side='right', truncation_side='right', special_tokens={'unk_token': '[UNK]', 'sep_token': '[SEP]', 'pad_token': '[PAD]', 'cls_token': '[CLS]', 'mask_token': '[MASK]'}, clean_up_tokenization_spaces=False, added_tokens_decoder={\n",
      "\t0: AddedToken(\"[PAD]\", rstrip=False, lstrip=False, single_word=False, normalized=False, special=True),\n",
      "\t100: AddedToken(\"[UNK]\", rstrip=False, lstrip=False, single_word=False, normalized=False, special=True),\n",
      "\t101: AddedToken(\"[CLS]\", rstrip=False, lstrip=False, single_word=False, normalized=False, special=True),\n",
      "\t102: AddedToken(\"[SEP]\", rstrip=False, lstrip=False, single_word=False, normalized=False, special=True),\n",
      "\t103: AddedToken(\"[MASK]\", rstrip=False, lstrip=False, single_word=False, normalized=False, special=True),\n",
      "}\n",
      ")\n"
     ]
    }
   ],
   "source": [
    "# Tokenize text using BERT tokenizer\n",
    "\n",
    "tokenizer = BertTokenizerFast.from_pretrained(\"bert-base-uncased\")\n",
    "\n",
    "X_train_enc = tokenizer(\n",
    "    list(X_train), truncation=True, padding=True, max_length=128, return_tensors=\"pt\"\n",
    ")\n",
    "\n",
    "X_test_enc = tokenizer(\n",
    "    list(X_test), truncation=True, padding=True, max_length=128, return_tensors=\"pt\"\n",
    ")\n",
    "print(tokenizer)\n"
   ]
  },
  {
   "cell_type": "markdown",
   "id": "7e1c7cb7-e21b-416d-a54b-1fa5f9c09bc0",
   "metadata": {},
   "source": [
    "# 10: PyTorch dataset class"
   ]
  },
  {
   "cell_type": "code",
   "execution_count": 21,
   "id": "05d587fe-e30f-48dc-9163-fce078a30ef6",
   "metadata": {},
   "outputs": [],
   "source": [
    "# Custom dataset to use with trainer\n",
    "class EmotionDataset(torch.utils.data.Dataset):\n",
    "    def __init__(self, encodings, labels):\n",
    "        self.encodings = encodings     # tokenized input\n",
    "        self.labels = labels.values.tolist()       # labels as list\n",
    "\n",
    "    def __getitem__(self, idx):\n",
    "        # now we get item from encodings\n",
    "        item = {key: val[idx] for key, val in self.encodings.items()}\n",
    "         # then we add label\n",
    "        item['labels'] = torch.tensor(self.labels[idx], dtype=torch.float)\n",
    "        return item\n",
    "\n",
    "    def __len__(self):\n",
    "        return len(self.labels)\n",
    "        \n",
    "# create train/test datasets\n",
    "train_dataset = EmotionDataset(X_train_enc, Y_train)\n",
    "test_dataset = EmotionDataset(X_test_enc, Y_test)\n"
   ]
  },
  {
   "cell_type": "markdown",
   "id": "c39d0c90-d25e-4ebf-ae93-1bd02e2b62d8",
   "metadata": {},
   "source": [
    "# 11: Load model"
   ]
  },
  {
   "cell_type": "code",
   "execution_count": 23,
   "id": "c3e598c4-43fe-4888-be78-0ed5fe9e32e9",
   "metadata": {},
   "outputs": [
    {
     "name": "stderr",
     "output_type": "stream",
     "text": [
      "Some weights of BertForSequenceClassification were not initialized from the model checkpoint at bert-base-uncased and are newly initialized: ['classifier.bias', 'classifier.weight']\n",
      "You should probably TRAIN this model on a down-stream task to be able to use it for predictions and inference.\n"
     ]
    }
   ],
   "source": [
    "# Load BERT for multi-label classification\n",
    "\n",
    "model = BertForSequenceClassification.from_pretrained(\n",
    "    \"bert-base-uncased\",\n",
    "    num_labels=len(emotion_labels),\n",
    "    problem_type=\"multi_label_classification\"\n",
    ")\n"
   ]
  },
  {
   "cell_type": "markdown",
   "id": "7d2206f6-9bc1-48eb-b787-c5702b33fcca",
   "metadata": {},
   "source": [
    "# 12: Training setup"
   ]
  },
  {
   "cell_type": "code",
   "execution_count": 25,
   "id": "86e563d8-4dcd-410b-86c0-2d838cf1a2c1",
   "metadata": {},
   "outputs": [],
   "source": [
    "# first we setup training parameters\n",
    "training_args = TrainingArguments(\n",
    "    output_dir=\"./results\",  # saveing the model\n",
    "    num_train_epochs=6,    # this shows how many times to loop through the data\n",
    "    per_device_train_batch_size=16, #this the amount of samples to use per step\n",
    "    per_device_eval_batch_size=64, # the bigger the batch, the faster is the evaluation\n",
    "    logging_dir=\"./logs\",\n",
    "    logging_steps=10,\n",
    "    do_eval=True,   # run eval each epoch\n",
    "    eval_strategy=\"epoch\",  \n",
    "    save_strategy=\"epoch\",\n",
    "    load_best_model_at_end=True,\n",
    "    metric_for_best_model=\"f1_macro\"  # choose best model by f1 macro score\n",
    ")\n"
   ]
  },
  {
   "cell_type": "markdown",
   "id": "bf437494-d5c4-48c3-9515-3b6a25f4999f",
   "metadata": {},
   "source": [
    "# 13: Metrics + Trainer"
   ]
  },
  {
   "cell_type": "code",
   "execution_count": 27,
   "id": "891b2c34-97fd-4113-bb94-e1c8bf2bae09",
   "metadata": {},
   "outputs": [],
   "source": [
    "# in this step we calculate f1 scores\n",
    "def compute_metrics(pred):\n",
    "    probs = torch.sigmoid(torch.tensor(pred.predictions)).numpy()  # get probabilities\n",
    "    preds = (probs > 0.5).astype(int)\n",
    "    labels = pred.label_ids\n",
    "    return {\n",
    "        \"f1_micro\": f1_score(labels, preds, average=\"micro\"),\n",
    "        \"f1_macro\": f1_score(labels, preds, average=\"macro\")\n",
    "    }\n",
    "\n",
    "# now create trainer\n",
    "trainer = Trainer(\n",
    "    model=model,\n",
    "    args=training_args,\n",
    "    train_dataset=train_dataset,\n",
    "    eval_dataset=test_dataset,\n",
    "    compute_metrics=compute_metrics\n",
    ")\n"
   ]
  },
  {
   "cell_type": "markdown",
   "id": "f7976841-229b-4ad9-b42c-e7a3c6cbe42f",
   "metadata": {},
   "source": [
    "# 14: Train"
   ]
  },
  {
   "cell_type": "code",
   "execution_count": 29,
   "id": "ea7468bd-83c5-45eb-ae39-1e5a5cd0b1c8",
   "metadata": {},
   "outputs": [
    {
     "data": {
      "text/html": [
       "\n",
       "    <div>\n",
       "      \n",
       "      <progress value='1518' max='1518' style='width:300px; height:20px; vertical-align: middle;'></progress>\n",
       "      [1518/1518 03:08, Epoch 6/6]\n",
       "    </div>\n",
       "    <table border=\"1\" class=\"dataframe\">\n",
       "  <thead>\n",
       " <tr style=\"text-align: left;\">\n",
       "      <th>Epoch</th>\n",
       "      <th>Training Loss</th>\n",
       "      <th>Validation Loss</th>\n",
       "      <th>F1 Micro</th>\n",
       "      <th>F1 Macro</th>\n",
       "    </tr>\n",
       "  </thead>\n",
       "  <tbody>\n",
       "    <tr>\n",
       "      <td>1</td>\n",
       "      <td>0.162500</td>\n",
       "      <td>0.162869</td>\n",
       "      <td>0.007812</td>\n",
       "      <td>0.004521</td>\n",
       "    </tr>\n",
       "    <tr>\n",
       "      <td>2</td>\n",
       "      <td>0.150700</td>\n",
       "      <td>0.145224</td>\n",
       "      <td>0.147143</td>\n",
       "      <td>0.064072</td>\n",
       "    </tr>\n",
       "    <tr>\n",
       "      <td>3</td>\n",
       "      <td>0.124700</td>\n",
       "      <td>0.136696</td>\n",
       "      <td>0.195089</td>\n",
       "      <td>0.092707</td>\n",
       "    </tr>\n",
       "    <tr>\n",
       "      <td>4</td>\n",
       "      <td>0.115800</td>\n",
       "      <td>0.136806</td>\n",
       "      <td>0.260012</td>\n",
       "      <td>0.126702</td>\n",
       "    </tr>\n",
       "    <tr>\n",
       "      <td>5</td>\n",
       "      <td>0.103000</td>\n",
       "      <td>0.135658</td>\n",
       "      <td>0.312791</td>\n",
       "      <td>0.167460</td>\n",
       "    </tr>\n",
       "    <tr>\n",
       "      <td>6</td>\n",
       "      <td>0.091900</td>\n",
       "      <td>0.136080</td>\n",
       "      <td>0.317768</td>\n",
       "      <td>0.172520</td>\n",
       "    </tr>\n",
       "  </tbody>\n",
       "</table><p>"
      ],
      "text/plain": [
       "<IPython.core.display.HTML object>"
      ]
     },
     "metadata": {},
     "output_type": "display_data"
    },
    {
     "name": "stderr",
     "output_type": "stream",
     "text": [
      "C:\\Users\\moham\\anaconda3\\Lib\\site-packages\\sklearn\\metrics\\_classification.py:1565: UndefinedMetricWarning: F-score is ill-defined and being set to 0.0 in labels with no true nor predicted samples. Use `zero_division` parameter to control this behavior.\n",
      "  _warn_prf(average, modifier, f\"{metric.capitalize()} is\", len(result))\n",
      "C:\\Users\\moham\\anaconda3\\Lib\\site-packages\\sklearn\\metrics\\_classification.py:1565: UndefinedMetricWarning: F-score is ill-defined and being set to 0.0 in labels with no true nor predicted samples. Use `zero_division` parameter to control this behavior.\n",
      "  _warn_prf(average, modifier, f\"{metric.capitalize()} is\", len(result))\n",
      "C:\\Users\\moham\\anaconda3\\Lib\\site-packages\\sklearn\\metrics\\_classification.py:1565: UndefinedMetricWarning: F-score is ill-defined and being set to 0.0 in labels with no true nor predicted samples. Use `zero_division` parameter to control this behavior.\n",
      "  _warn_prf(average, modifier, f\"{metric.capitalize()} is\", len(result))\n",
      "C:\\Users\\moham\\anaconda3\\Lib\\site-packages\\sklearn\\metrics\\_classification.py:1565: UndefinedMetricWarning: F-score is ill-defined and being set to 0.0 in labels with no true nor predicted samples. Use `zero_division` parameter to control this behavior.\n",
      "  _warn_prf(average, modifier, f\"{metric.capitalize()} is\", len(result))\n",
      "C:\\Users\\moham\\anaconda3\\Lib\\site-packages\\sklearn\\metrics\\_classification.py:1565: UndefinedMetricWarning: F-score is ill-defined and being set to 0.0 in labels with no true nor predicted samples. Use `zero_division` parameter to control this behavior.\n",
      "  _warn_prf(average, modifier, f\"{metric.capitalize()} is\", len(result))\n",
      "C:\\Users\\moham\\anaconda3\\Lib\\site-packages\\sklearn\\metrics\\_classification.py:1565: UndefinedMetricWarning: F-score is ill-defined and being set to 0.0 in labels with no true nor predicted samples. Use `zero_division` parameter to control this behavior.\n",
      "  _warn_prf(average, modifier, f\"{metric.capitalize()} is\", len(result))\n"
     ]
    },
    {
     "data": {
      "text/plain": [
       "TrainOutput(global_step=1518, training_loss=0.1324786194385433, metrics={'train_runtime': 188.6695, 'train_samples_per_second': 128.288, 'train_steps_per_second': 8.046, 'total_flos': 622053381988800.0, 'train_loss': 0.1324786194385433, 'epoch': 6.0})"
      ]
     },
     "execution_count": 29,
     "metadata": {},
     "output_type": "execute_result"
    }
   ],
   "source": [
    "# Train model\n",
    "trainer.train()\n"
   ]
  },
  {
   "cell_type": "markdown",
   "id": "18a8d3fd-559e-4baa-ac77-d2fb42cfe118",
   "metadata": {},
   "source": [
    "# 15: Evaluate"
   ]
  },
  {
   "cell_type": "code",
   "execution_count": 31,
   "id": "76324c19-551c-48c2-a080-dcf75027d9cf",
   "metadata": {},
   "outputs": [
    {
     "data": {
      "text/html": [
       "\n",
       "    <div>\n",
       "      \n",
       "      <progress value='16' max='16' style='width:300px; height:20px; vertical-align: middle;'></progress>\n",
       "      [16/16 00:01]\n",
       "    </div>\n",
       "    "
      ],
      "text/plain": [
       "<IPython.core.display.HTML object>"
      ]
     },
     "metadata": {},
     "output_type": "display_data"
    },
    {
     "name": "stdout",
     "output_type": "stream",
     "text": [
      "Evaluation Results:\n",
      "{'eval_loss': 0.1360796093940735, 'eval_f1_micro': 0.31776765375854216, 'eval_f1_macro': 0.17251991152567253, 'eval_runtime': 1.4212, 'eval_samples_per_second': 709.987, 'eval_steps_per_second': 11.258, 'epoch': 6.0}\n"
     ]
    },
    {
     "name": "stderr",
     "output_type": "stream",
     "text": [
      "C:\\Users\\moham\\anaconda3\\Lib\\site-packages\\sklearn\\metrics\\_classification.py:1565: UndefinedMetricWarning: F-score is ill-defined and being set to 0.0 in labels with no true nor predicted samples. Use `zero_division` parameter to control this behavior.\n",
      "  _warn_prf(average, modifier, f\"{metric.capitalize()} is\", len(result))\n"
     ]
    }
   ],
   "source": [
    "# Step 12: Evaluate\n",
    "eval_results = trainer.evaluate()\n",
    "print(\"Evaluation Results:\")\n",
    "print(eval_results)\n"
   ]
  },
  {
   "cell_type": "code",
   "execution_count": 57,
   "id": "6c728256-9343-4e29-8407-61711caa1364",
   "metadata": {},
   "outputs": [
    {
     "data": {
      "text/plain": [
       "('emotion_model\\\\tokenizer_config.json',\n",
       " 'emotion_model\\\\special_tokens_map.json',\n",
       " 'emotion_model\\\\vocab.txt',\n",
       " 'emotion_model\\\\added_tokens.json',\n",
       " 'emotion_model\\\\tokenizer.json')"
      ]
     },
     "execution_count": 57,
     "metadata": {},
     "output_type": "execute_result"
    }
   ],
   "source": [
    "# Save trained model and tokenizer\n",
    "model.save_pretrained(\"emotion_model\")\n",
    "tokenizer.save_pretrained(\"emotion_model\")\n"
   ]
  },
  {
   "cell_type": "markdown",
   "id": "2b0c9eb7-c31e-4bd8-8c57-093d720e1b31",
   "metadata": {},
   "source": [
    "# 16: Predict new sample"
   ]
  },
  {
   "cell_type": "code",
   "execution_count": 40,
   "id": "111e7c8f-cb7f-4270-9edd-acf3b576a072",
   "metadata": {},
   "outputs": [
    {
     "name": "stdout",
     "output_type": "stream",
     "text": [
      "[('joy', 0.4985284209251404), ('excitement', 0.12504956126213074), ('admiration', 0.0661490187048912)]\n"
     ]
    }
   ],
   "source": [
    "# we run model on a new text and get top k predicted emotions\n",
    "def predict_emotions(text, top_k=3):\n",
    "    inputs = tokenizer(\n",
    "        text, return_tensors=\"pt\", truncation=True, padding=True, max_length=128\n",
    "    )\n",
    "\n",
    "    with torch.no_grad():\n",
    "        inputs = {k: v.to(model.device) for k, v in inputs.items()}\n",
    "        outputs = model(**inputs)\n",
    "\n",
    "    # move from CUDA to CPU before converting to numpy\n",
    "    probs = torch.sigmoid(outputs.logits).squeeze().cpu().numpy()\n",
    "    top_indices = probs.argsort()[-top_k:][::-1]\n",
    "    return [(emotion_labels[i], float(probs[i])) for i in top_indices]\n",
    "\n",
    "# test it by using this example\n",
    "text = \"I'm happy to see my friends again!\"\n",
    "print(predict_emotions(text))\n"
   ]
  },
  {
   "cell_type": "markdown",
   "id": "6c406c34-3d1d-488a-879e-ed00f0bbe1e7",
   "metadata": {},
   "source": [
    "# 17: Debug"
   ]
  },
  {
   "cell_type": "code",
   "execution_count": 43,
   "id": "1497e84d-8008-466c-8fde-d831278e1309",
   "metadata": {},
   "outputs": [
    {
     "name": "stdout",
     "output_type": "stream",
     "text": [
      "\n",
      "Debug Info:\n",
      "Dataset structure: <class 'datasets.arrow_dataset.Dataset'>\n",
      "Columns: ['text', 'id', 'author', 'subreddit', 'link_id', 'parent_id', 'created_utc', 'rater_id', 'example_very_unclear', 'admiration', 'amusement', 'anger', 'annoyance', 'approval', 'caring', 'confusion', 'curiosity', 'desire', 'disappointment', 'disapproval', 'disgust', 'embarrassment', 'excitement', 'fear', 'gratitude', 'grief', 'joy', 'love', 'nervousness', 'optimism', 'pride', 'realization', 'relief', 'remorse', 'sadness', 'surprise', 'neutral', 'emotions_text', 'label_count']\n",
      "                                                text  admiration  amusement  \\\n",
      "0                                    That game hurt.           0          0   \n",
      "1                                 Man I love reddit.           0          0   \n",
      "2  Right? Considering it’s such an important docu...           0          0   \n",
      "3  He isn't as big, but he's still quite popular....           0          0   \n",
      "4  That's crazy; I went to a super [RELIGION] hig...           0          1   \n",
      "\n",
      "   anger  \n",
      "0      0  \n",
      "1      0  \n",
      "2      0  \n",
      "3      0  \n",
      "4      0  \n"
     ]
    }
   ],
   "source": [
    "# quick check to see dataset structure, column names and sample rows\n",
    "\n",
    "print(\"\\nDebug Info:\")\n",
    "print(f\"Dataset structure: {type(dataset)}\")\n",
    "print(f\"Columns: {df.columns.tolist()}\")\n",
    "print(df[['text'] + emotion_labels[:3]].head())\n"
   ]
  },
  {
   "cell_type": "code",
   "execution_count": 51,
   "id": "e4ba2c05-b12e-4e8e-96e9-777177a05675",
   "metadata": {},
   "outputs": [
    {
     "name": "stdout",
     "output_type": "stream",
     "text": [
      "Collecting gradio\n",
      "  Downloading gradio-5.29.0-py3-none-any.whl.metadata (16 kB)\n",
      "Collecting aiofiles<25.0,>=22.0 (from gradio)\n",
      "  Downloading aiofiles-24.1.0-py3-none-any.whl.metadata (10 kB)\n",
      "Requirement already satisfied: anyio<5.0,>=3.0 in c:\\users\\moham\\anaconda3\\lib\\site-packages (from gradio) (4.2.0)\n",
      "Collecting fastapi<1.0,>=0.115.2 (from gradio)\n",
      "  Downloading fastapi-0.115.12-py3-none-any.whl.metadata (27 kB)\n",
      "Collecting ffmpy (from gradio)\n",
      "  Downloading ffmpy-0.5.0-py3-none-any.whl.metadata (3.0 kB)\n",
      "Collecting gradio-client==1.10.0 (from gradio)\n",
      "  Downloading gradio_client-1.10.0-py3-none-any.whl.metadata (7.1 kB)\n",
      "Collecting groovy~=0.1 (from gradio)\n",
      "  Downloading groovy-0.1.2-py3-none-any.whl.metadata (6.1 kB)\n",
      "Requirement already satisfied: httpx>=0.24.1 in c:\\users\\moham\\anaconda3\\lib\\site-packages (from gradio) (0.27.0)\n",
      "Requirement already satisfied: huggingface-hub>=0.28.1 in c:\\users\\moham\\anaconda3\\lib\\site-packages (from gradio) (0.30.2)\n",
      "Requirement already satisfied: jinja2<4.0 in c:\\users\\moham\\anaconda3\\lib\\site-packages (from gradio) (3.1.4)\n",
      "Requirement already satisfied: markupsafe<4.0,>=2.0 in c:\\users\\moham\\anaconda3\\lib\\site-packages (from gradio) (2.1.3)\n",
      "Requirement already satisfied: numpy<3.0,>=1.0 in c:\\users\\moham\\anaconda3\\lib\\site-packages (from gradio) (1.26.4)\n",
      "Collecting orjson~=3.0 (from gradio)\n",
      "  Downloading orjson-3.10.18-cp312-cp312-win_amd64.whl.metadata (43 kB)\n",
      "Requirement already satisfied: packaging in c:\\users\\moham\\anaconda3\\lib\\site-packages (from gradio) (24.1)\n",
      "Requirement already satisfied: pandas<3.0,>=1.0 in c:\\users\\moham\\anaconda3\\lib\\site-packages (from gradio) (2.2.2)\n",
      "Requirement already satisfied: pillow<12.0,>=8.0 in c:\\users\\moham\\anaconda3\\lib\\site-packages (from gradio) (10.4.0)\n",
      "Requirement already satisfied: pydantic<2.12,>=2.0 in c:\\users\\moham\\anaconda3\\lib\\site-packages (from gradio) (2.8.2)\n",
      "Collecting pydub (from gradio)\n",
      "  Downloading pydub-0.25.1-py2.py3-none-any.whl.metadata (1.4 kB)\n",
      "Collecting python-multipart>=0.0.18 (from gradio)\n",
      "  Downloading python_multipart-0.0.20-py3-none-any.whl.metadata (1.8 kB)\n",
      "Requirement already satisfied: pyyaml<7.0,>=5.0 in c:\\users\\moham\\anaconda3\\lib\\site-packages (from gradio) (6.0.1)\n",
      "Collecting ruff>=0.9.3 (from gradio)\n",
      "  Downloading ruff-0.11.9-py3-none-win_amd64.whl.metadata (26 kB)\n",
      "Collecting safehttpx<0.2.0,>=0.1.6 (from gradio)\n",
      "  Downloading safehttpx-0.1.6-py3-none-any.whl.metadata (4.2 kB)\n",
      "Collecting semantic-version~=2.0 (from gradio)\n",
      "  Downloading semantic_version-2.10.0-py2.py3-none-any.whl.metadata (9.7 kB)\n",
      "Collecting starlette<1.0,>=0.40.0 (from gradio)\n",
      "  Downloading starlette-0.46.2-py3-none-any.whl.metadata (6.2 kB)\n",
      "Collecting tomlkit<0.14.0,>=0.12.0 (from gradio)\n",
      "  Downloading tomlkit-0.13.2-py3-none-any.whl.metadata (2.7 kB)\n",
      "Collecting typer<1.0,>=0.12 (from gradio)\n",
      "  Downloading typer-0.15.3-py3-none-any.whl.metadata (15 kB)\n",
      "Requirement already satisfied: typing-extensions~=4.0 in c:\\users\\moham\\anaconda3\\lib\\site-packages (from gradio) (4.11.0)\n",
      "Collecting uvicorn>=0.14.0 (from gradio)\n",
      "  Downloading uvicorn-0.34.2-py3-none-any.whl.metadata (6.5 kB)\n",
      "Requirement already satisfied: fsspec in c:\\users\\moham\\anaconda3\\lib\\site-packages (from gradio-client==1.10.0->gradio) (2024.6.1)\n",
      "Collecting websockets<16.0,>=10.0 (from gradio-client==1.10.0->gradio)\n",
      "  Downloading websockets-15.0.1-cp312-cp312-win_amd64.whl.metadata (7.0 kB)\n",
      "Requirement already satisfied: idna>=2.8 in c:\\users\\moham\\anaconda3\\lib\\site-packages (from anyio<5.0,>=3.0->gradio) (3.7)\n",
      "Requirement already satisfied: sniffio>=1.1 in c:\\users\\moham\\anaconda3\\lib\\site-packages (from anyio<5.0,>=3.0->gradio) (1.3.0)\n",
      "Requirement already satisfied: certifi in c:\\users\\moham\\anaconda3\\lib\\site-packages (from httpx>=0.24.1->gradio) (2025.1.31)\n",
      "Requirement already satisfied: httpcore==1.* in c:\\users\\moham\\anaconda3\\lib\\site-packages (from httpx>=0.24.1->gradio) (1.0.2)\n",
      "Requirement already satisfied: h11<0.15,>=0.13 in c:\\users\\moham\\anaconda3\\lib\\site-packages (from httpcore==1.*->httpx>=0.24.1->gradio) (0.14.0)\n",
      "Requirement already satisfied: filelock in c:\\users\\moham\\anaconda3\\lib\\site-packages (from huggingface-hub>=0.28.1->gradio) (3.13.1)\n",
      "Requirement already satisfied: requests in c:\\users\\moham\\anaconda3\\lib\\site-packages (from huggingface-hub>=0.28.1->gradio) (2.32.3)\n",
      "Requirement already satisfied: tqdm>=4.42.1 in c:\\users\\moham\\anaconda3\\lib\\site-packages (from huggingface-hub>=0.28.1->gradio) (4.66.5)\n",
      "Requirement already satisfied: python-dateutil>=2.8.2 in c:\\users\\moham\\anaconda3\\lib\\site-packages (from pandas<3.0,>=1.0->gradio) (2.9.0.post0)\n",
      "Requirement already satisfied: pytz>=2020.1 in c:\\users\\moham\\anaconda3\\lib\\site-packages (from pandas<3.0,>=1.0->gradio) (2024.1)\n",
      "Requirement already satisfied: tzdata>=2022.7 in c:\\users\\moham\\anaconda3\\lib\\site-packages (from pandas<3.0,>=1.0->gradio) (2023.3)\n",
      "Requirement already satisfied: annotated-types>=0.4.0 in c:\\users\\moham\\anaconda3\\lib\\site-packages (from pydantic<2.12,>=2.0->gradio) (0.6.0)\n",
      "Requirement already satisfied: pydantic-core==2.20.1 in c:\\users\\moham\\anaconda3\\lib\\site-packages (from pydantic<2.12,>=2.0->gradio) (2.20.1)\n",
      "Requirement already satisfied: click>=8.0.0 in c:\\users\\moham\\anaconda3\\lib\\site-packages (from typer<1.0,>=0.12->gradio) (8.1.7)\n",
      "Requirement already satisfied: shellingham>=1.3.0 in c:\\users\\moham\\anaconda3\\lib\\site-packages (from typer<1.0,>=0.12->gradio) (1.5.0)\n",
      "Requirement already satisfied: rich>=10.11.0 in c:\\users\\moham\\anaconda3\\lib\\site-packages (from typer<1.0,>=0.12->gradio) (13.7.1)\n",
      "Requirement already satisfied: colorama in c:\\users\\moham\\anaconda3\\lib\\site-packages (from click>=8.0.0->typer<1.0,>=0.12->gradio) (0.4.6)\n",
      "Requirement already satisfied: six>=1.5 in c:\\users\\moham\\anaconda3\\lib\\site-packages (from python-dateutil>=2.8.2->pandas<3.0,>=1.0->gradio) (1.16.0)\n",
      "Requirement already satisfied: markdown-it-py>=2.2.0 in c:\\users\\moham\\anaconda3\\lib\\site-packages (from rich>=10.11.0->typer<1.0,>=0.12->gradio) (2.2.0)\n",
      "Requirement already satisfied: pygments<3.0.0,>=2.13.0 in c:\\users\\moham\\anaconda3\\lib\\site-packages (from rich>=10.11.0->typer<1.0,>=0.12->gradio) (2.15.1)\n",
      "Requirement already satisfied: charset-normalizer<4,>=2 in c:\\users\\moham\\anaconda3\\lib\\site-packages (from requests->huggingface-hub>=0.28.1->gradio) (3.3.2)\n",
      "Requirement already satisfied: urllib3<3,>=1.21.1 in c:\\users\\moham\\anaconda3\\lib\\site-packages (from requests->huggingface-hub>=0.28.1->gradio) (2.2.3)\n",
      "Requirement already satisfied: mdurl~=0.1 in c:\\users\\moham\\anaconda3\\lib\\site-packages (from markdown-it-py>=2.2.0->rich>=10.11.0->typer<1.0,>=0.12->gradio) (0.1.0)\n",
      "Downloading gradio-5.29.0-py3-none-any.whl (54.1 MB)\n",
      "   ---------------------------------------- 0.0/54.1 MB ? eta -:--:--\n",
      "   ---------------------------------------- 0.5/54.1 MB 3.4 MB/s eta 0:00:16\n",
      "    --------------------------------------- 1.0/54.1 MB 2.4 MB/s eta 0:00:23\n",
      "   - -------------------------------------- 1.6/54.1 MB 2.8 MB/s eta 0:00:19\n",
      "   - -------------------------------------- 2.6/54.1 MB 3.3 MB/s eta 0:00:16\n",
      "   -- ------------------------------------- 2.9/54.1 MB 2.8 MB/s eta 0:00:19\n",
      "   -- ------------------------------------- 3.9/54.1 MB 3.2 MB/s eta 0:00:16\n",
      "   --- ------------------------------------ 4.7/54.1 MB 3.3 MB/s eta 0:00:15\n",
      "   ---- ----------------------------------- 5.5/54.1 MB 3.5 MB/s eta 0:00:15\n",
      "   ---- ----------------------------------- 6.3/54.1 MB 3.4 MB/s eta 0:00:14\n",
      "   ----- ---------------------------------- 6.8/54.1 MB 3.4 MB/s eta 0:00:14\n",
      "   ----- ---------------------------------- 7.6/54.1 MB 3.4 MB/s eta 0:00:14\n",
      "   ------ --------------------------------- 8.4/54.1 MB 3.4 MB/s eta 0:00:14\n",
      "   ------ --------------------------------- 9.2/54.1 MB 3.4 MB/s eta 0:00:14\n",
      "   ------- -------------------------------- 10.0/54.1 MB 3.4 MB/s eta 0:00:13\n",
      "   ------- -------------------------------- 10.5/54.1 MB 3.4 MB/s eta 0:00:13\n",
      "   -------- ------------------------------- 11.3/54.1 MB 3.4 MB/s eta 0:00:13\n",
      "   -------- ------------------------------- 11.8/54.1 MB 3.4 MB/s eta 0:00:13\n",
      "   --------- ------------------------------ 12.6/54.1 MB 3.4 MB/s eta 0:00:13\n",
      "   --------- ------------------------------ 13.1/54.1 MB 3.4 MB/s eta 0:00:13\n",
      "   ---------- ----------------------------- 13.9/54.1 MB 3.4 MB/s eta 0:00:12\n",
      "   ---------- ----------------------------- 14.4/54.1 MB 3.3 MB/s eta 0:00:12\n",
      "   ----------- ---------------------------- 14.9/54.1 MB 3.3 MB/s eta 0:00:12\n",
      "   ----------- ---------------------------- 15.5/54.1 MB 3.3 MB/s eta 0:00:12\n",
      "   ------------ --------------------------- 16.3/54.1 MB 3.3 MB/s eta 0:00:12\n",
      "   ------------ --------------------------- 16.8/54.1 MB 3.2 MB/s eta 0:00:12\n",
      "   ------------ --------------------------- 17.3/54.1 MB 3.2 MB/s eta 0:00:12\n",
      "   ------------- -------------------------- 18.1/54.1 MB 3.2 MB/s eta 0:00:12\n",
      "   ------------- -------------------------- 18.4/54.1 MB 3.2 MB/s eta 0:00:12\n",
      "   -------------- ------------------------- 19.1/54.1 MB 3.2 MB/s eta 0:00:11\n",
      "   -------------- ------------------------- 19.7/54.1 MB 3.2 MB/s eta 0:00:11\n",
      "   --------------- ------------------------ 20.4/54.1 MB 3.2 MB/s eta 0:00:11\n",
      "   --------------- ------------------------ 21.0/54.1 MB 3.2 MB/s eta 0:00:11\n",
      "   --------------- ------------------------ 21.5/54.1 MB 3.2 MB/s eta 0:00:11\n",
      "   ---------------- ----------------------- 22.0/54.1 MB 3.2 MB/s eta 0:00:11\n",
      "   ---------------- ----------------------- 22.5/54.1 MB 3.1 MB/s eta 0:00:11\n",
      "   ----------------- ---------------------- 23.1/54.1 MB 3.1 MB/s eta 0:00:10\n",
      "   ----------------- ---------------------- 23.9/54.1 MB 3.1 MB/s eta 0:00:10\n",
      "   ------------------ --------------------- 24.4/54.1 MB 3.1 MB/s eta 0:00:10\n",
      "   ------------------ --------------------- 24.6/54.1 MB 3.1 MB/s eta 0:00:10\n",
      "   ------------------ --------------------- 25.2/54.1 MB 3.0 MB/s eta 0:00:10\n",
      "   ------------------ --------------------- 25.4/54.1 MB 3.0 MB/s eta 0:00:10\n",
      "   ------------------- -------------------- 25.7/54.1 MB 3.0 MB/s eta 0:00:10\n",
      "   ------------------- -------------------- 26.0/54.1 MB 3.0 MB/s eta 0:00:10\n",
      "   ------------------- -------------------- 26.5/54.1 MB 2.9 MB/s eta 0:00:10\n",
      "   ------------------- -------------------- 27.0/54.1 MB 2.9 MB/s eta 0:00:10\n",
      "   -------------------- ------------------- 27.5/54.1 MB 2.9 MB/s eta 0:00:10\n",
      "   -------------------- ------------------- 28.0/54.1 MB 2.9 MB/s eta 0:00:09\n",
      "   --------------------- ------------------ 28.8/54.1 MB 2.9 MB/s eta 0:00:09\n",
      "   --------------------- ------------------ 29.6/54.1 MB 2.9 MB/s eta 0:00:09\n",
      "   ---------------------- ----------------- 30.1/54.1 MB 2.9 MB/s eta 0:00:09\n",
      "   ---------------------- ----------------- 30.7/54.1 MB 2.9 MB/s eta 0:00:09\n",
      "   ----------------------- ---------------- 31.2/54.1 MB 2.9 MB/s eta 0:00:08\n",
      "   ----------------------- ---------------- 31.7/54.1 MB 2.9 MB/s eta 0:00:08\n",
      "   ----------------------- ---------------- 32.2/54.1 MB 2.9 MB/s eta 0:00:08\n",
      "   ------------------------ --------------- 32.8/54.1 MB 2.9 MB/s eta 0:00:08\n",
      "   ------------------------ --------------- 33.6/54.1 MB 2.9 MB/s eta 0:00:08\n",
      "   ------------------------- -------------- 34.1/54.1 MB 2.9 MB/s eta 0:00:07\n",
      "   ------------------------- -------------- 34.6/54.1 MB 2.9 MB/s eta 0:00:07\n",
      "   -------------------------- ------------- 35.4/54.1 MB 2.9 MB/s eta 0:00:07\n",
      "   -------------------------- ------------- 36.2/54.1 MB 2.9 MB/s eta 0:00:07\n",
      "   --------------------------- ------------ 36.7/54.1 MB 2.9 MB/s eta 0:00:06\n",
      "   --------------------------- ------------ 37.5/54.1 MB 2.9 MB/s eta 0:00:06\n",
      "   ---------------------------- ----------- 38.0/54.1 MB 2.9 MB/s eta 0:00:06\n",
      "   ---------------------------- ----------- 38.8/54.1 MB 2.9 MB/s eta 0:00:06\n",
      "   ----------------------------- ---------- 39.3/54.1 MB 2.9 MB/s eta 0:00:06\n",
      "   ----------------------------- ---------- 40.1/54.1 MB 2.9 MB/s eta 0:00:05\n",
      "   ------------------------------ --------- 40.9/54.1 MB 2.9 MB/s eta 0:00:05\n",
      "   ------------------------------ --------- 41.4/54.1 MB 2.9 MB/s eta 0:00:05\n",
      "   ------------------------------- -------- 41.9/54.1 MB 2.9 MB/s eta 0:00:05\n",
      "   ------------------------------- -------- 42.7/54.1 MB 2.9 MB/s eta 0:00:04\n",
      "   -------------------------------- ------- 43.5/54.1 MB 3.0 MB/s eta 0:00:04\n",
      "   -------------------------------- ------- 44.3/54.1 MB 3.0 MB/s eta 0:00:04\n",
      "   --------------------------------- ------ 44.8/54.1 MB 3.0 MB/s eta 0:00:04\n",
      "   --------------------------------- ------ 45.4/54.1 MB 3.0 MB/s eta 0:00:03\n",
      "   --------------------------------- ------ 45.6/54.1 MB 3.0 MB/s eta 0:00:03\n",
      "   ---------------------------------- ----- 46.4/54.1 MB 2.9 MB/s eta 0:00:03\n",
      "   ---------------------------------- ----- 46.9/54.1 MB 2.9 MB/s eta 0:00:03\n",
      "   ----------------------------------- ---- 47.4/54.1 MB 2.9 MB/s eta 0:00:03\n",
      "   ----------------------------------- ---- 48.0/54.1 MB 2.9 MB/s eta 0:00:03\n",
      "   ------------------------------------ --- 48.8/54.1 MB 2.9 MB/s eta 0:00:02\n",
      "   ------------------------------------ --- 49.3/54.1 MB 2.9 MB/s eta 0:00:02\n",
      "   ------------------------------------ --- 49.5/54.1 MB 2.9 MB/s eta 0:00:02\n",
      "   ------------------------------------- -- 50.3/54.1 MB 2.9 MB/s eta 0:00:02\n",
      "   ------------------------------------- -- 51.1/54.1 MB 2.9 MB/s eta 0:00:02\n",
      "   -------------------------------------- - 51.6/54.1 MB 2.9 MB/s eta 0:00:01\n",
      "   -------------------------------------- - 52.4/54.1 MB 2.9 MB/s eta 0:00:01\n",
      "   ---------------------------------------  53.0/54.1 MB 3.0 MB/s eta 0:00:01\n",
      "   ---------------------------------------  53.5/54.1 MB 2.9 MB/s eta 0:00:01\n",
      "   ---------------------------------------  54.0/54.1 MB 2.9 MB/s eta 0:00:01\n",
      "   ---------------------------------------- 54.1/54.1 MB 2.9 MB/s eta 0:00:00\n",
      "Downloading gradio_client-1.10.0-py3-none-any.whl (322 kB)\n",
      "Downloading aiofiles-24.1.0-py3-none-any.whl (15 kB)\n",
      "Downloading fastapi-0.115.12-py3-none-any.whl (95 kB)\n",
      "Downloading groovy-0.1.2-py3-none-any.whl (14 kB)\n",
      "Downloading orjson-3.10.18-cp312-cp312-win_amd64.whl (134 kB)\n",
      "Downloading python_multipart-0.0.20-py3-none-any.whl (24 kB)\n",
      "Downloading ruff-0.11.9-py3-none-win_amd64.whl (11.6 MB)\n",
      "   ---------------------------------------- 0.0/11.6 MB ? eta -:--:--\n",
      "    --------------------------------------- 0.3/11.6 MB ? eta -:--:--\n",
      "   --- ------------------------------------ 1.0/11.6 MB 3.1 MB/s eta 0:00:04\n",
      "   ----- ---------------------------------- 1.6/11.6 MB 3.2 MB/s eta 0:00:04\n",
      "   ------- -------------------------------- 2.1/11.6 MB 2.9 MB/s eta 0:00:04\n",
      "   --------- ------------------------------ 2.9/11.6 MB 3.1 MB/s eta 0:00:03\n",
      "   ----------- ---------------------------- 3.4/11.6 MB 3.1 MB/s eta 0:00:03\n",
      "   ------------- -------------------------- 3.9/11.6 MB 2.9 MB/s eta 0:00:03\n",
      "   ----------------- ---------------------- 5.0/11.6 MB 3.1 MB/s eta 0:00:03\n",
      "   ------------------- -------------------- 5.8/11.6 MB 3.2 MB/s eta 0:00:02\n",
      "   ---------------------- ----------------- 6.6/11.6 MB 3.2 MB/s eta 0:00:02\n",
      "   ------------------------- -------------- 7.3/11.6 MB 3.3 MB/s eta 0:00:02\n",
      "   --------------------------- ------------ 7.9/11.6 MB 3.4 MB/s eta 0:00:02\n",
      "   ----------------------------- ---------- 8.7/11.6 MB 3.3 MB/s eta 0:00:01\n",
      "   -------------------------------- ------- 9.4/11.6 MB 3.3 MB/s eta 0:00:01\n",
      "   ----------------------------------- ---- 10.2/11.6 MB 3.3 MB/s eta 0:00:01\n",
      "   ------------------------------------ --- 10.7/11.6 MB 3.3 MB/s eta 0:00:01\n",
      "   -------------------------------------- - 11.3/11.6 MB 3.2 MB/s eta 0:00:01\n",
      "   ---------------------------------------- 11.6/11.6 MB 3.2 MB/s eta 0:00:00\n",
      "Downloading safehttpx-0.1.6-py3-none-any.whl (8.7 kB)\n",
      "Downloading semantic_version-2.10.0-py2.py3-none-any.whl (15 kB)\n",
      "Downloading starlette-0.46.2-py3-none-any.whl (72 kB)\n",
      "Downloading tomlkit-0.13.2-py3-none-any.whl (37 kB)\n",
      "Downloading typer-0.15.3-py3-none-any.whl (45 kB)\n",
      "Downloading uvicorn-0.34.2-py3-none-any.whl (62 kB)\n",
      "Downloading ffmpy-0.5.0-py3-none-any.whl (6.0 kB)\n",
      "Downloading pydub-0.25.1-py2.py3-none-any.whl (32 kB)\n",
      "Downloading websockets-15.0.1-cp312-cp312-win_amd64.whl (176 kB)\n",
      "Installing collected packages: pydub, websockets, tomlkit, semantic-version, ruff, python-multipart, orjson, groovy, ffmpy, aiofiles, uvicorn, starlette, typer, safehttpx, gradio-client, fastapi, gradio\n",
      "  Attempting uninstall: tomlkit\n",
      "    Found existing installation: tomlkit 0.11.1\n",
      "    Uninstalling tomlkit-0.11.1:\n",
      "      Successfully uninstalled tomlkit-0.11.1\n",
      "  Attempting uninstall: typer\n",
      "    Found existing installation: typer 0.9.0\n",
      "    Uninstalling typer-0.9.0:\n",
      "      Successfully uninstalled typer-0.9.0\n",
      "Successfully installed aiofiles-24.1.0 fastapi-0.115.12 ffmpy-0.5.0 gradio-5.29.0 gradio-client-1.10.0 groovy-0.1.2 orjson-3.10.18 pydub-0.25.1 python-multipart-0.0.20 ruff-0.11.9 safehttpx-0.1.6 semantic-version-2.10.0 starlette-0.46.2 tomlkit-0.13.2 typer-0.15.3 uvicorn-0.34.2 websockets-15.0.1\n"
     ]
    }
   ],
   "source": [
    "!pip install gradio\n"
   ]
  },
  {
   "cell_type": "code",
   "execution_count": 55,
   "id": "4d42fc21-7f70-441e-92fc-d5bb4d09fad4",
   "metadata": {},
   "outputs": [
    {
     "name": "stdout",
     "output_type": "stream",
     "text": [
      "* Running on local URL:  http://127.0.0.1:7861\n",
      "* To create a public link, set `share=True` in `launch()`.\n"
     ]
    },
    {
     "data": {
      "text/html": [
       "<div><iframe src=\"http://127.0.0.1:7861/\" width=\"100%\" height=\"500\" allow=\"autoplay; camera; microphone; clipboard-read; clipboard-write;\" frameborder=\"0\" allowfullscreen></iframe></div>"
      ],
      "text/plain": [
       "<IPython.core.display.HTML object>"
      ]
     },
     "metadata": {},
     "output_type": "display_data"
    },
    {
     "data": {
      "text/plain": []
     },
     "execution_count": 55,
     "metadata": {},
     "output_type": "execute_result"
    }
   ],
   "source": [
    "# Import Gradio library\n",
    "import gradio as gr\n",
    "\n",
    "# Create a simple web interface for the emotion prediction function\n",
    "gr.Interface(\n",
    "    fn=predict_emotions,  # the function we already defined for predictions\n",
    "    inputs=gr.Textbox(lines=2, placeholder=\"Type a sentence here...\"),  # input field for user text\n",
    "    outputs=\"text\",  # output will be shown as text labels\n",
    "    title=\"Emotion Classifier\",  # title shown at the top of the interface\n",
    "    description=\"Enter a sentence and get the top predicted emotions from BERT.\"  # short user instruction\n",
    ").launch()  # start the interface locally in your browser\n"
   ]
  },
  {
   "cell_type": "markdown",
   "id": "abd835d8-2a81-44a5-b3bc-d33393e5d532",
   "metadata": {},
   "source": [
    "# This notebook implements a multi-label text classification pipeline using the GoEmotions dataset.\n",
    "\n",
    "# Key design choices:\n",
    "\n",
    "- **Subset of 7000 samples**: Speeds up training while preserving label diversity.\n",
    "- **Removed 'neutral' class**: It lacks clear emotional signal and can bias learning.\n",
    "- **Binary label matrix**: Required for multi-label classification with BERT.\n",
    "- **Used `bert-base-uncased`**: A general-purpose pretrained model suitable for emotion detection.\n",
    "- **Training setup**:\n",
    "  - `num_train_epochs=6`: Balances training time and performance.\n",
    "  - `per_device_train_batch_size=16`: Fits standard GPU memory limits.\n",
    "  - Evaluation and saving per epoch ensures best model selection.\n",
    "- **F1 Macro as best model metric**: Fair across imbalanced emotion classes.\n",
    "- **Trainer API**: Simplifies training, logging, and evaluation.\n",
    "- **Prediction function**: Supports top-k label output for inference.\n",
    "\n",
    "This pipeline can be easily scaled up with more data or adapted to other multi-label NLP tasks.\n"
   ]
  },
  {
   "cell_type": "markdown",
   "id": "5ea64867-6aa8-4f29-a991-2ae3faaccfba",
   "metadata": {},
   "source": [
    "# Gradio:\n",
    "To make the model easier to test, I added a Gradio interface.\n",
    "It creates a simple web app where you type a sentence and get the top predicted emotions.\n",
    "\n",
    "This helped me:\n",
    "\n",
    "* Check if the model responds reasonably to unseen examples\n",
    "\n",
    "* Catch edge cases like sarcasm or ambiguous tone\n",
    "\n",
    "* Present a cleaner demo without running code cells\n",
    "\n",
    "Gradio made the project more interactive and user-friendly.\n",
    "It also shows how the model could be deployed in a real product later."
   ]
  },
  {
   "cell_type": "code",
   "execution_count": null,
   "id": "aef2212e-9b06-4c8b-b795-b0cbb08819aa",
   "metadata": {},
   "outputs": [],
   "source": []
  }
 ],
 "metadata": {
  "kernelspec": {
   "display_name": "Python [conda env:base] *",
   "language": "python",
   "name": "conda-base-py"
  },
  "language_info": {
   "codemirror_mode": {
    "name": "ipython",
    "version": 3
   },
   "file_extension": ".py",
   "mimetype": "text/x-python",
   "name": "python",
   "nbconvert_exporter": "python",
   "pygments_lexer": "ipython3",
   "version": "3.12.7"
  }
 },
 "nbformat": 4,
 "nbformat_minor": 5
}
